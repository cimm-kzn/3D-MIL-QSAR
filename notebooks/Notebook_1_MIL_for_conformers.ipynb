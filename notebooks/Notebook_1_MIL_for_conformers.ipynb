{
 "cells": [
  {
   "cell_type": "markdown",
   "metadata": {},
   "source": [
    "# Introduction\n",
    "\n",
    "Multi-instance (MI) machine learning approaches can be used to solve the issues of representation of each molecule by multiple conformations (instances) and automatic selection of the most relevant ones. In the multi-instance approach, an example (i.e., a molecule) is presented by a bag of instances (i.e., a set of conformations), and a label (a molecule property value) is available only for a bag (a molecule), but not for individual instances (conformations).\n",
    "\n",
    "In this study, we have implemented several multi-instance algorithms, both conventional and based on deep learning, and investigated their performance. We have compared the performance of MI-QSAR models with those based on the classical single-instance QSAR (SI-QSAR) approach in which each molecule is encoded by either 2D descriptors computed for the corresponding molecular graph or 3D descriptors issued for a single lowest-energy conformation. "
   ]
  },
  {
   "cell_type": "markdown",
   "metadata": {},
   "source": [
    "## 1. Load dataset\n",
    "\n",
    "The example datasets contain molecule structure (SMILES) and measured bioactivity (pKi or IC50) – the higher the better."
   ]
  },
  {
   "cell_type": "code",
   "execution_count": 2,
   "metadata": {},
   "outputs": [],
   "source": [
    "import numpy as np\n",
    "import pandas as pd\n",
    "from rdkit import Chem\n",
    "\n",
    "from sklearn.metrics import r2_score, accuracy_score\n",
    "from sklearn.model_selection import train_test_split\n",
    "\n",
    "# Data\n",
    "from huggingface_hub import hf_hub_download"
   ]
  },
  {
   "cell_type": "code",
   "execution_count": 3,
   "metadata": {},
   "outputs": [],
   "source": [
    "REPO_ID = \"KagakuData/notebooks\"\n",
    "\n",
    "csv_path = hf_hub_download(REPO_ID, filename=\"chembl_200/CHEMBL279.csv\", repo_type=\"dataset\")\n",
    "data = pd.read_csv(csv_path, header=None)\n",
    "\n",
    "data_train, data_test = train_test_split(data, test_size=0.2)"
   ]
  },
  {
   "cell_type": "code",
   "execution_count": 5,
   "metadata": {},
   "outputs": [],
   "source": [
    "smi_train, y_train = data_train[0].to_list(), data_train[2].to_list()\n",
    "smi_test, y_test = data_test[0].to_list(), data_test[2].to_list()"
   ]
  },
  {
   "cell_type": "code",
   "execution_count": 6,
   "metadata": {},
   "outputs": [],
   "source": [
    "mols_train, y_train = [], []\n",
    "for smi, prop in zip(smi_train, prop_train):\n",
    "    mol = Chem.MolFromSmiles(smi)\n",
    "    if mol:\n",
    "        mols_train.append(mol)\n",
    "        y_train.append(prop)"
   ]
  },
  {
   "cell_type": "code",
   "execution_count": 7,
   "metadata": {},
   "outputs": [],
   "source": [
    "mols_test, y_test = [], []\n",
    "for smi, prop in zip(smi_test, prop_test):\n",
    "    mol = Chem.MolFromSmiles(smi)\n",
    "    if mol:\n",
    "        mols_test.append(mol)\n",
    "        y_test.append(prop)"
   ]
  },
  {
   "attachments": {},
   "cell_type": "markdown",
   "metadata": {},
   "source": [
    "## 1.5 Reduce the dataset size for faster pipeline (for playing around)"
   ]
  },
  {
   "cell_type": "code",
   "execution_count": 8,
   "metadata": {},
   "outputs": [],
   "source": [
    "# mols_train, y_train = mols_train[:80], y_train[:80]\n",
    "# mols_test, y_test = mols_test[:20], y_test[:20]"
   ]
  },
  {
   "cell_type": "markdown",
   "metadata": {},
   "source": [
    "## 2. Conformer generation\n",
    "\n",
    "For each molecule, an ensemble of conformers is generated. Then, molecules for which conformer generation failed are filtered out from both, the training and test set. Generated conformers can be accessed by mol.GetConformers(confID=0)."
   ]
  },
  {
   "cell_type": "code",
   "execution_count": 9,
   "metadata": {},
   "outputs": [],
   "source": [
    "from qsarmil.conformer import RDKitConformerGenerator\n",
    "\n",
    "from qsarmil.utils.logging import FailedConformer, FailedDescriptor"
   ]
  },
  {
   "cell_type": "code",
   "execution_count": 10,
   "metadata": {},
   "outputs": [],
   "source": [
    "conf_gen = RDKitConformerGenerator(num_conf=10, num_cpu=40)"
   ]
  },
  {
   "cell_type": "code",
   "execution_count": 11,
   "metadata": {},
   "outputs": [
    {
     "name": "stderr",
     "output_type": "stream",
     "text": [
      "Generating conformers: 100%|████████████████████████████████████████████████████████████| 80/80 [00:04<00:00, 17.42it/s]\n"
     ]
    }
   ],
   "source": [
    "confs_train = conf_gen.run(mols_train)\n",
    "\n",
    "tmp = [(c, y) for c, y in zip(confs_train, y_train) if not isinstance(c, FailedConformer)]\n",
    "confs_train, y_train = zip(*tmp) \n",
    "confs_train, y_train = list(confs_train), list(y_train)"
   ]
  },
  {
   "cell_type": "code",
   "execution_count": 12,
   "metadata": {},
   "outputs": [
    {
     "name": "stderr",
     "output_type": "stream",
     "text": [
      "Generating conformers: 100%|████████████████████████████████████████████████████████████| 20/20 [00:02<00:00,  8.19it/s]\n"
     ]
    }
   ],
   "source": [
    "confs_test = conf_gen.run(mols_test)\n",
    "\n",
    "tmp = [(c, y) for c, y in zip(confs_test, y_test) if not isinstance(c, FailedConformer)]\n",
    "confs_test, y_test = zip(*tmp) \n",
    "confs_test, y_test = list(confs_test), list(y_test)"
   ]
  },
  {
   "cell_type": "markdown",
   "metadata": {},
   "source": [
    "## 3. Descriptor calculation\n",
    "\n",
    "Then, for each molecule with associated conformers 3D descriptors are calculated. Here, a descriptor wrapper is used, which is designed to apply descriptor calculators from external packages. The resulting descriptors are a list of 2D arrays (bags). Also, the resulting descriptors are scaled."
   ]
  },
  {
   "cell_type": "code",
   "execution_count": 13,
   "metadata": {},
   "outputs": [],
   "source": [
    "from qsarmil.descriptor.rdkit import (RDKitGEOM, \n",
    "                                      RDKitAUTOCORR, \n",
    "                                      RDKitRDF, \n",
    "                                      RDKitMORSE, \n",
    "                                      RDKitWHIM, \n",
    "                                      RDKitGETAWAY)\n",
    "\n",
    "from molfeat.calc import Pharmacophore3D, USRDescriptors, ElectroShapeDescriptors\n",
    "\n",
    "from qsarmil.descriptor.wrapper import DescriptorWrapper\n",
    "\n",
    "from milearn.preprocessing import BagMinMaxScaler"
   ]
  },
  {
   "cell_type": "code",
   "execution_count": 14,
   "metadata": {},
   "outputs": [],
   "source": [
    "desc_calc = DescriptorWrapper(RDKitRDF())"
   ]
  },
  {
   "cell_type": "code",
   "execution_count": 15,
   "metadata": {
    "scrolled": true
   },
   "outputs": [],
   "source": [
    "x_train = desc_calc.transform(confs_train)\n",
    "x_test = desc_calc.transform(confs_test)"
   ]
  },
  {
   "cell_type": "code",
   "execution_count": 16,
   "metadata": {},
   "outputs": [],
   "source": [
    "scaler = BagMinMaxScaler()\n",
    "\n",
    "scaler.fit(x_train)\n",
    "\n",
    "x_train_scaled = scaler.transform(x_train)\n",
    "x_test_scaled = scaler.transform(x_test)"
   ]
  },
  {
   "cell_type": "markdown",
   "metadata": {},
   "source": [
    "## 4. Mini-benchmark"
   ]
  },
  {
   "cell_type": "code",
   "execution_count": 18,
   "metadata": {},
   "outputs": [],
   "source": [
    "import logging\n",
    "import warnings\n",
    "warnings.filterwarnings(\"ignore\")\n",
    "logging.getLogger(\"pytorch_lightning\").setLevel(logging.ERROR)\n",
    "logging.getLogger(\"lightning\").setLevel(logging.ERROR)\n",
    "\n",
    "import time\n",
    "import torch\n",
    "import random\n",
    "\n",
    "import numpy as np\n",
    "import pandas as pd\n",
    "\n",
    "import matplotlib.pyplot as plt\n",
    "\n",
    "# Preprocessing\n",
    "from milearn.preprocessing import BagMinMaxScaler\n",
    "\n",
    "# Network hparams\n",
    "from milearn.network.module.hopt import DEFAULT_PARAM_GRID\n",
    "\n",
    "# MIL wrappers\n",
    "from milearn.network.regressor import BagWrapperMLPNetworkRegressor, InstanceWrapperMLPNetworkRegressor\n",
    "from milearn.network.classifier import BagWrapperMLPNetworkClassifier, InstanceWrapperMLPNetworkClassifier\n",
    "\n",
    "# MIL networks\n",
    "from milearn.network.regressor import (InstanceNetworkRegressor,\n",
    "                                       BagNetworkRegressor,\n",
    "                                       AdditiveAttentionNetworkRegressor,\n",
    "                                       SelfAttentionNetworkRegressor,\n",
    "                                       HopfieldAttentionNetworkRegressor,\n",
    "                                       DynamicPoolingNetworkRegressor)\n",
    "# Utils\n",
    "from sklearn.metrics import r2_score, accuracy_score\n",
    "from sklearn.model_selection import train_test_split"
   ]
  },
  {
   "cell_type": "code",
   "execution_count": 19,
   "metadata": {},
   "outputs": [],
   "source": [
    "regressor_list = [\n",
    "\n",
    "        # wrapper mil networks\n",
    "        (\"MeanBagWrapperMLPNetworkRegressor\", BagWrapperMLPNetworkRegressor(pool=\"mean\")),\n",
    "        (\"MeanInstanceWrapperMLPNetworkRegressor\", InstanceWrapperMLPNetworkRegressor(pool=\"mean\")),\n",
    "    \n",
    "        # classic mil networks\n",
    "        (\"MeanBagNetworkRegressor\", BagNetworkRegressor(pool=\"mean\")),\n",
    "        (\"MeanInstanceNetworkRegressor\", InstanceNetworkRegressor(pool=\"mean\")),\n",
    "\n",
    "        # attention mil networks\n",
    "        (\"AdditiveAttentionNetworkRegressor\", AdditiveAttentionNetworkRegressor()),\n",
    "        (\"SelfAttentionNetworkRegressor\", SelfAttentionNetworkRegressor()),\n",
    "        (\"HopfieldAttentionNetworkRegressor\", HopfieldAttentionNetworkRegressor()),\n",
    "\n",
    "        # other mil networks\n",
    "        (\"DynamicPoolingNetworkRegressor\", DynamicPoolingNetworkRegressor()),\n",
    "    ]"
   ]
  },
  {
   "cell_type": "code",
   "execution_count": 21,
   "metadata": {
    "scrolled": true
   },
   "outputs": [
    {
     "name": "stdout",
     "output_type": "stream",
     "text": [
      "MeanBagWrapperMLPNetworkRegressor\n",
      "MeanInstanceWrapperMLPNetworkRegressor\n",
      "MeanBagNetworkRegressor\n",
      "MeanInstanceNetworkRegressor\n",
      "AdditiveAttentionNetworkRegressor\n",
      "SelfAttentionNetworkRegressor\n",
      "HopfieldAttentionNetworkRegressor\n",
      "DynamicPoolingNetworkRegressor\n"
     ]
    }
   ],
   "source": [
    "res_df = pd.DataFrame()\n",
    "for method_name, model in regressor_list:\n",
    "\n",
    "    # model.hopt(x_train_scaled, y_train, param_grid=DEFAULT_PARAM_GRID, verbose=True)\n",
    "    model.fit(x_train_scaled, y_train)\n",
    "    y_pred = model.predict(x_test_scaled)\n",
    "    \n",
    "    res_df.loc[method_name, \"R2\"] = r2_score(y_test, y_pred)"
   ]
  },
  {
   "cell_type": "code",
   "execution_count": 22,
   "metadata": {},
   "outputs": [
    {
     "data": {
      "text/html": [
       "<div>\n",
       "<style scoped>\n",
       "    .dataframe tbody tr th:only-of-type {\n",
       "        vertical-align: middle;\n",
       "    }\n",
       "\n",
       "    .dataframe tbody tr th {\n",
       "        vertical-align: top;\n",
       "    }\n",
       "\n",
       "    .dataframe thead th {\n",
       "        text-align: right;\n",
       "    }\n",
       "</style>\n",
       "<table border=\"1\" class=\"dataframe\">\n",
       "  <thead>\n",
       "    <tr style=\"text-align: right;\">\n",
       "      <th></th>\n",
       "      <th>R2</th>\n",
       "    </tr>\n",
       "  </thead>\n",
       "  <tbody>\n",
       "    <tr>\n",
       "      <th>DynamicPoolingNetworkRegressor</th>\n",
       "      <td>0.528351</td>\n",
       "    </tr>\n",
       "    <tr>\n",
       "      <th>MeanBagWrapperMLPNetworkRegressor</th>\n",
       "      <td>0.422525</td>\n",
       "    </tr>\n",
       "    <tr>\n",
       "      <th>MeanInstanceWrapperMLPNetworkRegressor</th>\n",
       "      <td>0.411559</td>\n",
       "    </tr>\n",
       "    <tr>\n",
       "      <th>SelfAttentionNetworkRegressor</th>\n",
       "      <td>0.401706</td>\n",
       "    </tr>\n",
       "    <tr>\n",
       "      <th>MeanBagNetworkRegressor</th>\n",
       "      <td>0.370688</td>\n",
       "    </tr>\n",
       "    <tr>\n",
       "      <th>MeanInstanceNetworkRegressor</th>\n",
       "      <td>0.370688</td>\n",
       "    </tr>\n",
       "    <tr>\n",
       "      <th>AdditiveAttentionNetworkRegressor</th>\n",
       "      <td>0.366663</td>\n",
       "    </tr>\n",
       "    <tr>\n",
       "      <th>HopfieldAttentionNetworkRegressor</th>\n",
       "      <td>0.340709</td>\n",
       "    </tr>\n",
       "  </tbody>\n",
       "</table>\n",
       "</div>"
      ],
      "text/plain": [
       "                                              R2\n",
       "DynamicPoolingNetworkRegressor          0.528351\n",
       "MeanBagWrapperMLPNetworkRegressor       0.422525\n",
       "MeanInstanceWrapperMLPNetworkRegressor  0.411559\n",
       "SelfAttentionNetworkRegressor           0.401706\n",
       "MeanBagNetworkRegressor                 0.370688\n",
       "MeanInstanceNetworkRegressor            0.370688\n",
       "AdditiveAttentionNetworkRegressor       0.366663\n",
       "HopfieldAttentionNetworkRegressor       0.340709"
      ]
     },
     "execution_count": 22,
     "metadata": {},
     "output_type": "execute_result"
    }
   ],
   "source": [
    "res_df.sort_values(by=\"R2\", ascending=False)"
   ]
  },
  {
   "cell_type": "code",
   "execution_count": null,
   "metadata": {},
   "outputs": [],
   "source": []
  },
  {
   "cell_type": "code",
   "execution_count": null,
   "metadata": {},
   "outputs": [],
   "source": []
  }
 ],
 "metadata": {
  "kernelspec": {
   "display_name": "tmp",
   "language": "python",
   "name": "tmp"
  },
  "language_info": {
   "codemirror_mode": {
    "name": "ipython",
    "version": 3
   },
   "file_extension": ".py",
   "mimetype": "text/x-python",
   "name": "python",
   "nbconvert_exporter": "python",
   "pygments_lexer": "ipython3",
   "version": "3.10.18"
  }
 },
 "nbformat": 4,
 "nbformat_minor": 4
}
